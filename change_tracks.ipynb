{
 "cells": [
  {
   "cell_type": "code",
   "execution_count": 1,
   "id": "0810dea4-f607-43b0-a793-9d77185c2580",
   "metadata": {
    "tags": []
   },
   "outputs": [],
   "source": [
    "import muspy\n",
    "from copy import deepcopy"
   ]
  },
  {
   "cell_type": "code",
   "execution_count": 2,
   "id": "b725b100-52ea-4d7d-ae83-8a17e4b06e2b",
   "metadata": {
    "tags": []
   },
   "outputs": [],
   "source": [
    "f = muspy.read_midi(\"POP909/001/001.mid\")"
   ]
  },
  {
   "cell_type": "code",
   "execution_count": 3,
   "id": "0904ee20-f0dd-4dca-b52c-062f762a15a9",
   "metadata": {
    "tags": []
   },
   "outputs": [
    {
     "data": {
      "text/plain": [
       "3"
      ]
     },
     "execution_count": 3,
     "metadata": {},
     "output_type": "execute_result"
    }
   ],
   "source": [
    "len(f.tracks)"
   ]
  },
  {
   "cell_type": "code",
   "execution_count": 5,
   "id": "9572ca45-1281-4ca8-bdc3-656d6d6b29d5",
   "metadata": {
    "tags": []
   },
   "outputs": [],
   "source": [
    "temp_f = deepcopy(f)\n",
    "temp_f.tracks = [temp_f.tracks[1]]\n",
    "muspy.write_midi(\"001B.mid\", temp_f)"
   ]
  },
  {
   "cell_type": "code",
   "execution_count": 8,
   "id": "3f3ce439-52f7-4390-b30c-779869ad2e63",
   "metadata": {
    "tags": []
   },
   "outputs": [
    {
     "name": "stdout",
     "output_type": "stream",
     "text": [
      "0 MELODY 0 False\n",
      "264 0 0 0\n",
      "1 BRIDGE 0 False\n",
      "307 0 0 0\n",
      "2 PIANO 0 False\n",
      "985 0 0 0\n"
     ]
    }
   ],
   "source": [
    "for tix, t in enumerate(f.tracks):\n",
    "    print(tix, t.name, t.program, t.is_drum)\n",
    "    print(len(t.notes), len(t.chords), len(t.annotations), len(t.lyrics))"
   ]
  },
  {
   "cell_type": "code",
   "execution_count": 4,
   "id": "d09cab8b-faf5-4d88-ae64-cfb344d54ab0",
   "metadata": {
    "tags": []
   },
   "outputs": [],
   "source": [
    "new_track = deepcopy(f.tracks[0])\n",
    "new_track.name = \"MELODY+BRIDGE+ACC\"\n",
    "new_track.notes += deepcopy(f.tracks[1].notes)\n",
    "new_track.notes += deepcopy(f.tracks[2].notes)"
   ]
  },
  {
   "cell_type": "code",
   "execution_count": 15,
   "id": "8eb964f7-437a-4b14-9e89-09a71674a089",
   "metadata": {
    "tags": []
   },
   "outputs": [],
   "source": [
    "MB_track = deepcopy(new_track)\n",
    "A_track = deepcopy(f.tracks[-1])"
   ]
  },
  {
   "cell_type": "code",
   "execution_count": 17,
   "id": "6df08688-5335-4adf-b987-bafb80a3ad77",
   "metadata": {
    "tags": []
   },
   "outputs": [],
   "source": [
    "MB_f = deepcopy(f)\n",
    "MB_f.tracks = [deepcopy(MB_track)]\n",
    "muspy.write_midi(\"001MB.mid\", MB_f)"
   ]
  },
  {
   "cell_type": "code",
   "execution_count": 18,
   "id": "2480e9a0-0bb5-40f7-aeb9-70d6f9bf471d",
   "metadata": {
    "tags": []
   },
   "outputs": [],
   "source": [
    "A_f = deepcopy(f)\n",
    "A_f.tracks = [deepcopy(A_track)]\n",
    "muspy.write_midi(\"001A.mid\", A_f)"
   ]
  },
  {
   "cell_type": "code",
   "execution_count": 5,
   "id": "6ba15e8a-2890-426b-88f1-90851e250a26",
   "metadata": {
    "tags": []
   },
   "outputs": [],
   "source": [
    "MBA_f = deepcopy(f)\n",
    "MBA_f.tracks = [deepcopy(new_track)]\n",
    "muspy.write_midi(\"001MBA.mid\", MBA_f)"
   ]
  },
  {
   "cell_type": "code",
   "execution_count": 13,
   "id": "239000cd-0c7e-43c5-8dd7-0fbc9531bbca",
   "metadata": {
    "tags": []
   },
   "outputs": [],
   "source": [
    "f.tracks = [new_track, f.tracks[-1]]"
   ]
  },
  {
   "cell_type": "code",
   "execution_count": 14,
   "id": "bbd036c9-4141-4ea8-88a3-c90c974847a0",
   "metadata": {
    "tags": []
   },
   "outputs": [
    {
     "data": {
      "text/plain": [
       "2"
      ]
     },
     "execution_count": 14,
     "metadata": {},
     "output_type": "execute_result"
    }
   ],
   "source": [
    "len(f.tracks)"
   ]
  },
  {
   "cell_type": "code",
   "execution_count": null,
   "id": "70bf87f7-ee98-4ca7-aa12-d57e42a2a15d",
   "metadata": {},
   "outputs": [],
   "source": []
  }
 ],
 "metadata": {
  "kernelspec": {
   "display_name": "Python 3",
   "language": "python",
   "name": "python3"
  },
  "language_info": {
   "codemirror_mode": {
    "name": "ipython",
    "version": 3
   },
   "file_extension": ".py",
   "mimetype": "text/x-python",
   "name": "python",
   "nbconvert_exporter": "python",
   "pygments_lexer": "ipython3",
   "version": "3.8.10"
  }
 },
 "nbformat": 4,
 "nbformat_minor": 5
}
